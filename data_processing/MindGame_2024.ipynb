{
 "cells": [
  {
   "cell_type": "code",
   "execution_count": 5,
   "id": "45ac92bf",
   "metadata": {},
   "outputs": [
    {
     "name": "stdin",
     "output_type": "stream",
     "text": [
      "Once deleted, variables cannot be recovered. Proceed (y/[n])?  y\n"
     ]
    }
   ],
   "source": [
    "%reset"
   ]
  },
  {
   "cell_type": "code",
   "execution_count": 6,
   "id": "4e887a5c-eb70-4ca5-8d27-e4b2d109797a",
   "metadata": {},
   "outputs": [],
   "source": [
    "import json\n",
    "import glob\n",
    "import calendar\n",
    "from statistics import mean \n",
    "import statistics\n",
    "import re\n",
    "from sklearn import preprocessing"
   ]
  },
  {
   "cell_type": "code",
   "execution_count": 7,
   "id": "9252d7d5-b0ab-402f-a1ab-91a78ec70de2",
   "metadata": {},
   "outputs": [],
   "source": [
    "import numpy as np \n",
    "import pandas as pd                  # for DataFrames\n",
    "from numpy.linalg import eig\n",
    "import matplotlib.pyplot as plt\n",
    "import plotly.express as px\n",
    "import plotly.graph_objects as go\n",
    "from plotly.offline import init_notebook_mode, iplot\n",
    "from scipy.stats import kurtosis\n",
    "from scipy.stats import skew\n",
    "from sklearn import preprocessing as pre\n"
   ]
  },
  {
   "cell_type": "code",
   "execution_count": 8,
   "id": "95b2954b-9a9f-45b8-80b5-07d7e5e2caf8",
   "metadata": {},
   "outputs": [],
   "source": [
    "import scipy.fftpack                 # discrete Fourier transforms\n",
    "from scipy import signal\n",
    "from scipy.signal import find_peaks\n",
    "from scipy.signal import butter, lfilter\n",
    "from scipy.signal import find_peaks, peak_prominences\n",
    "from scipy.signal import chirp, peak_widths\n"
   ]
  },
  {
   "cell_type": "code",
   "execution_count": 9,
   "id": "2b2b6aa8-d984-4fcc-877d-c613d65afabc",
   "metadata": {},
   "outputs": [],
   "source": [
    "import plotly.express as px\n",
    "import plotly.graph_objects as go\n",
    "import plotly.figure_factory as ff\n",
    "from plotly.subplots import make_subplots\n",
    "import os"
   ]
  },
  {
   "cell_type": "code",
   "execution_count": 10,
   "id": "6771fd20-309c-47c1-9010-5bcdcaf510c0",
   "metadata": {},
   "outputs": [],
   "source": [
    "folder_path = '/Users/shehjarsadhu/Desktop/UniversityOfRhodeIsland/Graduate/WBL/Project_MindGame/2024-13-05/data/watch_data/accelerometer_data'\n",
    "all_dfs = []\n",
    "\n",
    "for file_name in os.listdir(folder_path):\n",
    "    if file_name.endswith('.csv'):\n",
    "        file_path = os.path.join(folder_path, file_name)\n",
    "        df = pd.read_csv(file_path)\n",
    "        df[\"filename\"] = file_name\n",
    "        all_dfs.append(df)\n",
    "\n",
    "combined_df = pd.concat(all_dfs, ignore_index=True)\n"
   ]
  },
  {
   "cell_type": "code",
   "execution_count": 16,
   "id": "ea163cd1-65f2-49c3-8936-3591b9872502",
   "metadata": {},
   "outputs": [],
   "source": [
    "pid = combined_df[\"filename\"][0].split(\"_\")[1]\n",
    "level = combined_df[\"filename\"][0].split(\"_\")[2]\n",
    "sub_level = combined_df[\"filename\"][0].split(\"_\")[3]"
   ]
  },
  {
   "cell_type": "code",
   "execution_count": 22,
   "id": "f75977fc-07d6-4534-b650-feca5a0f0d42",
   "metadata": {},
   "outputs": [],
   "source": [
    "# df[['first_name', 'last_name']] = df['full_name'].str.split(' ', 1, expand=True)\n",
    "combined_df['pid'] =  combined_df['filename'].str.split('_').str[1]\n",
    "combined_df['level'] =  combined_df['filename'].str.split('_').str[2]\n",
    "combined_df['sub_level'] =  combined_df['filename'].str.split('_').str[3]\n"
   ]
  },
  {
   "cell_type": "code",
   "execution_count": 24,
   "id": "1246b8f8-322b-4f31-903f-f6a14e500c58",
   "metadata": {},
   "outputs": [
    {
     "data": {
      "text/plain": [
       "array(['N2', 'P1', 'N1', 'P100', 'P2'], dtype=object)"
      ]
     },
     "execution_count": 24,
     "metadata": {},
     "output_type": "execute_result"
    }
   ],
   "source": [
    "combined_df[\"pid\"].unique()"
   ]
  },
  {
   "cell_type": "code",
   "execution_count": null,
   "id": "e387e0c9-358f-4482-83b1-ccd91fad9242",
   "metadata": {},
   "outputs": [],
   "source": []
  },
  {
   "cell_type": "code",
   "execution_count": null,
   "id": "df6411fc-ae61-4903-b0e9-d451c768e61c",
   "metadata": {},
   "outputs": [],
   "source": []
  },
  {
   "cell_type": "code",
   "execution_count": null,
   "id": "0999cedb-057d-4130-8206-b554e894d845",
   "metadata": {},
   "outputs": [],
   "source": []
  },
  {
   "cell_type": "code",
   "execution_count": null,
   "id": "f2a2601d-2ea3-494c-b43b-a38083f6f465",
   "metadata": {},
   "outputs": [],
   "source": []
  }
 ],
 "metadata": {
  "kernelspec": {
   "display_name": "Python 3 (ipykernel)",
   "language": "python",
   "name": "python3"
  },
  "language_info": {
   "codemirror_mode": {
    "name": "ipython",
    "version": 3
   },
   "file_extension": ".py",
   "mimetype": "text/x-python",
   "name": "python",
   "nbconvert_exporter": "python",
   "pygments_lexer": "ipython3",
   "version": "3.11.6"
  },
  "varInspector": {
   "cols": {
    "lenName": 16,
    "lenType": 16,
    "lenVar": 40
   },
   "kernels_config": {
    "python": {
     "delete_cmd_postfix": "",
     "delete_cmd_prefix": "del ",
     "library": "var_list.py",
     "varRefreshCmd": "print(var_dic_list())"
    },
    "r": {
     "delete_cmd_postfix": ") ",
     "delete_cmd_prefix": "rm(",
     "library": "var_list.r",
     "varRefreshCmd": "cat(var_dic_list()) "
    }
   },
   "types_to_exclude": [
    "module",
    "function",
    "builtin_function_or_method",
    "instance",
    "_Feature"
   ],
   "window_display": false
  }
 },
 "nbformat": 4,
 "nbformat_minor": 5
}

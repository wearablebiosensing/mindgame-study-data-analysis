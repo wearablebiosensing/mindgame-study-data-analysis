{
 "cells": [
  {
   "cell_type": "code",
   "execution_count": 7,
   "id": "75f6e43c",
   "metadata": {},
   "outputs": [
    {
     "name": "stdin",
     "output_type": "stream",
     "text": [
      "Once deleted, variables cannot be recovered. Proceed (y/[n])?  y\n"
     ]
    }
   ],
   "source": [
    "%reset"
   ]
  },
  {
   "cell_type": "code",
   "execution_count": 8,
   "id": "e212e5ef",
   "metadata": {},
   "outputs": [],
   "source": [
    "import json\n",
    "import glob\n",
    "import calendar\n",
    "from statistics import mean \n",
    "import statistics\n",
    "from sklearn import preprocessing\n",
    "\n",
    "import numpy as np \n",
    "import pandas as pd                  # for DataFrames\n",
    "from numpy.linalg import eig\n",
    "import matplotlib.pyplot as plt\n",
    "import plotly.express as px\n",
    "import plotly.graph_objects as go\n",
    "from plotly.offline import init_notebook_mode, iplot\n",
    "from scipy.stats import kurtosis\n",
    "from scipy.stats import skew\n"
   ]
  },
  {
   "cell_type": "code",
   "execution_count": 9,
   "id": "46d6f1d6",
   "metadata": {},
   "outputs": [],
   "source": [
    "import scipy.fftpack                 # discrete Fourier transforms\n",
    "from scipy import signal\n",
    "from scipy.signal import find_peaks\n",
    "from scipy.signal import butter, lfilter\n",
    "from scipy.signal import find_peaks, peak_prominences\n",
    "from scipy.signal import chirp, peak_widths\n"
   ]
  },
  {
   "cell_type": "code",
   "execution_count": 10,
   "id": "22207830",
   "metadata": {},
   "outputs": [],
   "source": [
    "import plotly.express as px\n",
    "import plotly.graph_objects as go\n",
    "import plotly.figure_factory as ff\n",
    "from plotly.subplots import make_subplots\n",
    "import os"
   ]
  },
  {
   "cell_type": "code",
   "execution_count": 11,
   "id": "486d0a11",
   "metadata": {},
   "outputs": [],
   "source": [
    "# Medicaiton Time Coordinaiton"
   ]
  },
  {
   "cell_type": "code",
   "execution_count": 12,
   "id": "dab492b0",
   "metadata": {},
   "outputs": [],
   "source": [
    "root = \"/Users/shehjarsadhu/Desktop/UniversityOfRhodeIsland/Graduate/WBL/Project_IOTEX/iotex-glove/PD/\"\n",
    "# Write all the results outside of the PD data folder.\n",
    "root_results_write = \"/Users/shehjarsadhu/Desktop/UniversityOfRhodeIsland/Graduate/WBL/Project_IOTEX/iotex-glove/\"\n",
    "\n"
   ]
  },
  {
   "cell_type": "code",
   "execution_count": 13,
   "id": "a26a2a63",
   "metadata": {},
   "outputs": [
    {
     "name": "stdout",
     "output_type": "stream",
     "text": [
      "text_files ,  0 rg_files,  0 lg_files,  0\n"
     ]
    }
   ],
   "source": [
    "pno = 4 # Change this from 1-4 to get each participnats file path seperately.\n",
    "dset_csv_fpath = root +'/Participant'+str(pno)+'/**/*.csv'\n",
    "label_text_fpath = root +'/Participant'+str(pno)+'/**/*.txt'\n",
    "csv_files = glob.glob(dset_csv_fpath,recursive=True)\n",
    "rg_files = [s.split(\"/\")[13] for s in csv_files if \"rg_\" in s]\n",
    "lg_files = [s.split(\"/\")[13]  for s in csv_files if \"lg_\" in s]\n",
    "text_files = glob.glob(label_text_fpath,recursive=True)\n",
    "# print(\"text_files\",text_files)\n",
    "print(\"text_files , \",len(text_files),\"rg_files, \",len(rg_files),\"lg_files, \",len(lg_files))\n",
    "#P4- 2021-10-28has a problem.\n"
   ]
  },
  {
   "cell_type": "code",
   "execution_count": 14,
   "id": "490fdd38",
   "metadata": {},
   "outputs": [],
   "source": [
    "# To write only the CSV file name and not the full file path.\n",
    "med_text = []\n",
    "for i in text_files:\n",
    "    med_text.append(i.split(\"/\")[13])\n",
    "    "
   ]
  },
  {
   "cell_type": "code",
   "execution_count": null,
   "id": "f25e036b",
   "metadata": {},
   "outputs": [],
   "source": []
  },
  {
   "cell_type": "code",
   "execution_count": null,
   "id": "947d281e",
   "metadata": {},
   "outputs": [],
   "source": []
  },
  {
   "cell_type": "code",
   "execution_count": 15,
   "id": "cfbe4dff",
   "metadata": {
    "scrolled": true
   },
   "outputs": [],
   "source": [
    "# Write results to CSV file after doing that u\n",
    "# Upload the file to google drive and then sort each list from A-Z seperately \n",
    "# then merge them together to get the medstatus files and the exercise filepaths.   \n",
    "df = pd.DataFrame(list(zip(med_text, rg_files, lg_files)))\n",
    "\n",
    "df.to_csv(\"/Users/shehjarsadhu/Desktop/p4_file_paths.csv\") # Change p2_file_paths.csv file paths to match each participnat number. \n",
    "\n"
   ]
  },
  {
   "cell_type": "code",
   "execution_count": null,
   "id": "ff3be960",
   "metadata": {},
   "outputs": [],
   "source": []
  },
  {
   "cell_type": "code",
   "execution_count": null,
   "id": "c7adccf5",
   "metadata": {},
   "outputs": [],
   "source": []
  },
  {
   "cell_type": "code",
   "execution_count": null,
   "id": "7d0137de-cb96-453f-8f7a-fd1bad424362",
   "metadata": {},
   "outputs": [],
   "source": []
  },
  {
   "cell_type": "code",
   "execution_count": null,
   "id": "f52fd1b6-a0a1-4dca-bffa-191ffc567519",
   "metadata": {},
   "outputs": [],
   "source": []
  },
  {
   "cell_type": "code",
   "execution_count": null,
   "id": "04feaee8-4305-45e2-8fd9-488e1c5ca43b",
   "metadata": {},
   "outputs": [],
   "source": []
  },
  {
   "cell_type": "code",
   "execution_count": null,
   "id": "eaa050c8-a77c-4d13-abf7-7b40e93e7f37",
   "metadata": {},
   "outputs": [],
   "source": []
  },
  {
   "cell_type": "code",
   "execution_count": null,
   "id": "17227448-fd55-40f7-9cb4-edee570c362f",
   "metadata": {},
   "outputs": [],
   "source": []
  },
  {
   "cell_type": "code",
   "execution_count": null,
   "id": "1753c7b6-f89b-4a3e-9188-6dad20da2e8b",
   "metadata": {},
   "outputs": [],
   "source": []
  },
  {
   "cell_type": "code",
   "execution_count": null,
   "id": "e8ac6630-e08e-4959-b36c-c408f0b950d3",
   "metadata": {},
   "outputs": [],
   "source": []
  },
  {
   "cell_type": "code",
   "execution_count": null,
   "id": "993c3072-14a7-4b07-af29-20fb0588415e",
   "metadata": {},
   "outputs": [],
   "source": []
  },
  {
   "cell_type": "code",
   "execution_count": null,
   "id": "99549380-0297-48ef-9cf5-cfc8d73afaa7",
   "metadata": {},
   "outputs": [],
   "source": []
  },
  {
   "cell_type": "code",
   "execution_count": null,
   "id": "9d9623f8-9d8f-4560-9d71-17298bddb196",
   "metadata": {},
   "outputs": [],
   "source": []
  }
 ],
 "metadata": {
  "kernelspec": {
   "display_name": "Python 3 (ipykernel)",
   "language": "python",
   "name": "python3"
  },
  "language_info": {
   "codemirror_mode": {
    "name": "ipython",
    "version": 3
   },
   "file_extension": ".py",
   "mimetype": "text/x-python",
   "name": "python",
   "nbconvert_exporter": "python",
   "pygments_lexer": "ipython3",
   "version": "3.11.6"
  },
  "varInspector": {
   "cols": {
    "lenName": 16,
    "lenType": 16,
    "lenVar": 40
   },
   "kernels_config": {
    "python": {
     "delete_cmd_postfix": "",
     "delete_cmd_prefix": "del ",
     "library": "var_list.py",
     "varRefreshCmd": "print(var_dic_list())"
    },
    "r": {
     "delete_cmd_postfix": ") ",
     "delete_cmd_prefix": "rm(",
     "library": "var_list.r",
     "varRefreshCmd": "cat(var_dic_list()) "
    }
   },
   "types_to_exclude": [
    "module",
    "function",
    "builtin_function_or_method",
    "instance",
    "_Feature"
   ],
   "window_display": false
  }
 },
 "nbformat": 4,
 "nbformat_minor": 5
}
